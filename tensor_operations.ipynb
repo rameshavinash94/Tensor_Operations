{
  "nbformat": 4,
  "nbformat_minor": 0,
  "metadata": {
    "colab": {
      "name": "tensor_operations",
      "provenance": [],
      "collapsed_sections": [],
      "authorship_tag": "ABX9TyO9xy7ZdAo5FPZEweWXJj+I",
      "include_colab_link": true
    },
    "kernelspec": {
      "name": "python3",
      "display_name": "Python 3"
    },
    "language_info": {
      "name": "python"
    }
  },
  "cells": [
    {
      "cell_type": "markdown",
      "metadata": {
        "id": "view-in-github",
        "colab_type": "text"
      },
      "source": [
        "<a href=\"https://colab.research.google.com/github/rameshavinash94/Tensor_Operations/blob/main/tensor_operations.ipynb\" target=\"_parent\"><img src=\"https://colab.research.google.com/assets/colab-badge.svg\" alt=\"Open In Colab\"/></a>"
      ]
    },
    {
      "cell_type": "markdown",
      "source": [
        "### **IMPORTING LIBRARIES**"
      ],
      "metadata": {
        "id": "ZbpGj9944Exv"
      }
    },
    {
      "cell_type": "code",
      "source": [
        "import tensorflow as tf\n",
        "import numpy as np\n",
        "import torch"
      ],
      "metadata": {
        "id": "cjw0vJqB4Nnn"
      },
      "execution_count": 1,
      "outputs": []
    },
    {
      "cell_type": "markdown",
      "source": [
        "### **TENSORFLOW**"
      ],
      "metadata": {
        "id": "Npr5FxKgEmwv"
      }
    },
    {
      "cell_type": "markdown",
      "source": [
        "**BASIC OPERATIONS**"
      ],
      "metadata": {
        "id": "BLv5YRhD3xyq"
      }
    },
    {
      "cell_type": "code",
      "execution_count": 2,
      "metadata": {
        "colab": {
          "base_uri": "https://localhost:8080/"
        },
        "id": "1ANclvV53uSY",
        "outputId": "61433330-ce01-4020-fe79-0a530f613b83"
      },
      "outputs": [
        {
          "output_type": "stream",
          "name": "stdout",
          "text": [
            "tf.Tensor(10, shape=(), dtype=int32)\n"
          ]
        }
      ],
      "source": [
        "# This will be an int32 tensor by default; see \"dtypes\" below.\n",
        "rank_0_tensor = tf.constant(10)\n",
        "print(rank_0_tensor)"
      ]
    },
    {
      "cell_type": "code",
      "source": [
        "# Let's make this a float tensor.\n",
        "rank_1_tensor = tf.constant([2.0, 3.0, 4.0])\n",
        "print(rank_1_tensor)"
      ],
      "metadata": {
        "colab": {
          "base_uri": "https://localhost:8080/"
        },
        "id": "FPBoUsrs58qI",
        "outputId": "83943937-3629-4c5a-8655-b0f79e7af4aa"
      },
      "execution_count": 3,
      "outputs": [
        {
          "output_type": "stream",
          "name": "stdout",
          "text": [
            "tf.Tensor([2. 3. 4.], shape=(3,), dtype=float32)\n"
          ]
        }
      ]
    },
    {
      "cell_type": "code",
      "source": [
        "# If you want to be specific, you can set the dtype (see below) at creation time\n",
        "rank_2_tensor = tf.constant([[1, 2],\n",
        "                             [3, 4],\n",
        "                             [5, 6]], dtype=tf.float16)\n",
        "print(rank_2_tensor)"
      ],
      "metadata": {
        "colab": {
          "base_uri": "https://localhost:8080/"
        },
        "id": "BaBF2ZSV6FJG",
        "outputId": "0b4dea83-86fd-4935-e2e3-1fe942cc0023"
      },
      "execution_count": 4,
      "outputs": [
        {
          "output_type": "stream",
          "name": "stdout",
          "text": [
            "tf.Tensor(\n",
            "[[1. 2.]\n",
            " [3. 4.]\n",
            " [5. 6.]], shape=(3, 2), dtype=float16)\n"
          ]
        }
      ]
    },
    {
      "cell_type": "code",
      "source": [
        "# There can be an arbitrary number of\n",
        "# axes (sometimes called \"dimensions\")\n",
        "rank_3_tensor = tf.constant([\n",
        "  [[0, 1, 2, 3, 4],\n",
        "   [5, 6, 7, 8, 9]],\n",
        "  [[10, 11, 12, 13, 14],\n",
        "   [15, 16, 17, 18, 19]],\n",
        "  [[20, 21, 22, 23, 24],\n",
        "   [25, 26, 27, 28, 29]],])\n",
        "\n",
        "print(rank_3_tensor)"
      ],
      "metadata": {
        "colab": {
          "base_uri": "https://localhost:8080/"
        },
        "id": "UE5dXP-m5_nl",
        "outputId": "40babcab-5790-40ca-9606-d639bf9287a9"
      },
      "execution_count": 5,
      "outputs": [
        {
          "output_type": "stream",
          "name": "stdout",
          "text": [
            "tf.Tensor(\n",
            "[[[ 0  1  2  3  4]\n",
            "  [ 5  6  7  8  9]]\n",
            "\n",
            " [[10 11 12 13 14]\n",
            "  [15 16 17 18 19]]\n",
            "\n",
            " [[20 21 22 23 24]\n",
            "  [25 26 27 28 29]]], shape=(3, 2, 5), dtype=int32)\n"
          ]
        }
      ]
    },
    {
      "cell_type": "code",
      "source": [
        "#convert to numpy array\n",
        "\n",
        "np.array(rank_2_tensor)\n",
        "#or\n",
        "rank_2_tensor.numpy()"
      ],
      "metadata": {
        "colab": {
          "base_uri": "https://localhost:8080/"
        },
        "id": "AU581XEw6UoN",
        "outputId": "63d14206-2d8c-414d-fa30-992307cece03"
      },
      "execution_count": 6,
      "outputs": [
        {
          "output_type": "execute_result",
          "data": {
            "text/plain": [
              "array([[1., 2.],\n",
              "       [3., 4.],\n",
              "       [5., 6.]], dtype=float16)"
            ]
          },
          "metadata": {},
          "execution_count": 6
        }
      ]
    },
    {
      "cell_type": "code",
      "source": [
        "a=tf.constant([[1,2]])\n",
        "b=tf.constant([[3,4],[4,5]])\n",
        "\n",
        "#math operations\n",
        "print(tf.add(a,b),\"\\n\")\n",
        "print(tf.multiply(a,b),\"\\n\")\n",
        "print(tf.matmul(a,b))"
      ],
      "metadata": {
        "colab": {
          "base_uri": "https://localhost:8080/"
        },
        "id": "cNvsl5Hy6az3",
        "outputId": "5dc88cca-9b79-47fd-bb2a-d8ddd8256ec9"
      },
      "execution_count": 7,
      "outputs": [
        {
          "output_type": "stream",
          "name": "stdout",
          "text": [
            "tf.Tensor(\n",
            "[[4 6]\n",
            " [5 7]], shape=(2, 2), dtype=int32) \n",
            "\n",
            "tf.Tensor(\n",
            "[[ 3  8]\n",
            " [ 4 10]], shape=(2, 2), dtype=int32) \n",
            "\n",
            "tf.Tensor([[11 14]], shape=(1, 2), dtype=int32)\n"
          ]
        }
      ]
    },
    {
      "cell_type": "code",
      "source": [
        "#the above operations via operators\n",
        "\n",
        "print(a + b, \"\\n\") # element-wise addition\n",
        "print(a * b, \"\\n\") # element-wise multiplication\n",
        "print(a @ b, \"\\n\") # matrix multiplication"
      ],
      "metadata": {
        "colab": {
          "base_uri": "https://localhost:8080/"
        },
        "id": "7r6D6k-P77Lj",
        "outputId": "748c992b-a8c7-4ab7-a173-582bacba377b"
      },
      "execution_count": 8,
      "outputs": [
        {
          "output_type": "stream",
          "name": "stdout",
          "text": [
            "tf.Tensor(\n",
            "[[4 6]\n",
            " [5 7]], shape=(2, 2), dtype=int32) \n",
            "\n",
            "tf.Tensor(\n",
            "[[ 3  8]\n",
            " [ 4 10]], shape=(2, 2), dtype=int32) \n",
            "\n",
            "tf.Tensor([[11 14]], shape=(1, 2), dtype=int32) \n",
            "\n"
          ]
        }
      ]
    },
    {
      "cell_type": "code",
      "source": [
        "c = tf.constant([[4.0, 5.0], [10.0, 1.0]])\n",
        "\n",
        "# Find the largest value\n",
        "print(tf.reduce_max(c))\n",
        "# Find the index of the largest value\n",
        "print(tf.argmax(c))\n",
        "# Compute the softmax\n",
        "print(tf.nn.softmax(c))"
      ],
      "metadata": {
        "colab": {
          "base_uri": "https://localhost:8080/"
        },
        "id": "k7pSZktk6jqE",
        "outputId": "d582065e-835f-4a76-eb1a-f4a348e3e17c"
      },
      "execution_count": 9,
      "outputs": [
        {
          "output_type": "stream",
          "name": "stdout",
          "text": [
            "tf.Tensor(10.0, shape=(), dtype=float32)\n",
            "tf.Tensor([1 0], shape=(2,), dtype=int64)\n",
            "tf.Tensor(\n",
            "[[2.6894143e-01 7.3105860e-01]\n",
            " [9.9987662e-01 1.2339458e-04]], shape=(2, 2), dtype=float32)\n"
          ]
        }
      ]
    },
    {
      "cell_type": "markdown",
      "source": [
        "**SHAPES**"
      ],
      "metadata": {
        "id": "HcCkz6278bly"
      }
    },
    {
      "cell_type": "markdown",
      "source": [
        "Tensors have shapes.\n",
        "\n",
        "Shape: The length (number of elements) of each of the axes of a tensor.\n",
        "\n",
        "Rank: Number of tensor axes. A scalar has rank 0, a vector has rank 1, a matrix is rank 2.\n",
        "\n",
        "Axis or Dimension: A particular dimension of a tensor.\n",
        "\n",
        "Size: The total number of items in the tensor, the product shape vector."
      ],
      "metadata": {
        "id": "dUUBbQhw8evV"
      }
    },
    {
      "cell_type": "code",
      "source": [
        "rank_4_tensor = tf.zeros([3, 2, 4, 5])"
      ],
      "metadata": {
        "id": "3sws1O-r6jn7"
      },
      "execution_count": 10,
      "outputs": []
    },
    {
      "cell_type": "code",
      "source": [
        "print(\"Type of every element:\", rank_4_tensor.dtype)\n",
        "print(\"Number of axes:\", rank_4_tensor.ndim)\n",
        "print(\"Shape of tensor:\", rank_4_tensor.shape)\n",
        "print(\"Elements along axis 0 of tensor:\", rank_4_tensor.shape[0])\n",
        "print(\"Elements along the last axis of tensor:\", rank_4_tensor.shape[-1])\n",
        "print(\"Total number of elements (3*2*4*5): \", tf.size(rank_4_tensor).numpy())"
      ],
      "metadata": {
        "colab": {
          "base_uri": "https://localhost:8080/"
        },
        "id": "WY4wPK-R6jjx",
        "outputId": "65e00b59-0fdb-4c5e-a59e-e404eecdc9dd"
      },
      "execution_count": 11,
      "outputs": [
        {
          "output_type": "stream",
          "name": "stdout",
          "text": [
            "Type of every element: <dtype: 'float32'>\n",
            "Number of axes: 4\n",
            "Shape of tensor: (3, 2, 4, 5)\n",
            "Elements along axis 0 of tensor: 3\n",
            "Elements along the last axis of tensor: 5\n",
            "Total number of elements (3*2*4*5):  120\n"
          ]
        }
      ]
    },
    {
      "cell_type": "markdown",
      "source": [
        "**INDEXING**"
      ],
      "metadata": {
        "id": "hZPIrAB09k5_"
      }
    },
    {
      "cell_type": "code",
      "source": [
        "rank_1_tensor = tf.constant([0, 1, 1, 2, 3, 5, 8, 13, 21, 34])\n",
        "print(rank_1_tensor.numpy())"
      ],
      "metadata": {
        "colab": {
          "base_uri": "https://localhost:8080/"
        },
        "id": "2sRc2YPQ6jhX",
        "outputId": "816de2c2-a579-4646-8144-9e316a917333"
      },
      "execution_count": 12,
      "outputs": [
        {
          "output_type": "stream",
          "name": "stdout",
          "text": [
            "[ 0  1  1  2  3  5  8 13 21 34]\n"
          ]
        }
      ]
    },
    {
      "cell_type": "code",
      "source": [
        "print(\"First:\", rank_1_tensor[0].numpy())\n",
        "print(\"Second:\", rank_1_tensor[1].numpy())\n",
        "print(\"Last:\", rank_1_tensor[-1].numpy())\n",
        "print(\"second from last:\", rank_1_tensor[-2].numpy())"
      ],
      "metadata": {
        "colab": {
          "base_uri": "https://localhost:8080/"
        },
        "id": "h4DaQNVB6jfG",
        "outputId": "b58d04e4-19b9-43c1-b8ff-655cf9f76e2d"
      },
      "execution_count": 13,
      "outputs": [
        {
          "output_type": "stream",
          "name": "stdout",
          "text": [
            "First: 0\n",
            "Second: 1\n",
            "Last: 34\n",
            "second from last: 21\n"
          ]
        }
      ]
    },
    {
      "cell_type": "code",
      "source": [
        "print(\"Everything:\", rank_1_tensor[:].numpy())\n",
        "print(\"Before 4:\", rank_1_tensor[:4].numpy())\n",
        "print(\"From 4 to the end:\", rank_1_tensor[4:].numpy())\n",
        "print(\"From 2, before 7:\", rank_1_tensor[2:7].numpy())\n",
        "print(\"Every other item:\", rank_1_tensor[::2].numpy())\n",
        "print(\"Reversed:\", rank_1_tensor[::-1].numpy())"
      ],
      "metadata": {
        "colab": {
          "base_uri": "https://localhost:8080/"
        },
        "id": "T176u8B46jc8",
        "outputId": "3021245e-820a-4957-ec54-d20d02e8ce6d"
      },
      "execution_count": 14,
      "outputs": [
        {
          "output_type": "stream",
          "name": "stdout",
          "text": [
            "Everything: [ 0  1  1  2  3  5  8 13 21 34]\n",
            "Before 4: [0 1 1 2]\n",
            "From 4 to the end: [ 3  5  8 13 21 34]\n",
            "From 2, before 7: [1 2 3 5 8]\n",
            "Every other item: [ 0  1  3  8 21]\n",
            "Reversed: [34 21 13  8  5  3  2  1  1  0]\n"
          ]
        }
      ]
    },
    {
      "cell_type": "code",
      "source": [
        "rank_2_tensor=tf.random.normal([3,3])"
      ],
      "metadata": {
        "id": "cpzykyG2941R"
      },
      "execution_count": 15,
      "outputs": []
    },
    {
      "cell_type": "code",
      "source": [
        "rank_2_tensor.numpy()"
      ],
      "metadata": {
        "colab": {
          "base_uri": "https://localhost:8080/"
        },
        "id": "ZDesLqmk9zfJ",
        "outputId": "018a8d0c-269b-4b64-84f7-52a5b9eeb95e"
      },
      "execution_count": 16,
      "outputs": [
        {
          "output_type": "execute_result",
          "data": {
            "text/plain": [
              "array([[ 0.69418174,  0.2626678 ,  2.580449  ],\n",
              "       [-0.3155075 ,  0.21117115,  0.86258286],\n",
              "       [ 1.3694826 , -1.0547215 ,  2.1501832 ]], dtype=float32)"
            ]
          },
          "metadata": {},
          "execution_count": 16
        }
      ]
    },
    {
      "cell_type": "code",
      "source": [
        "# Pull out a single value from a 2-rank tensor\n",
        "print(rank_2_tensor[1, 1].numpy())"
      ],
      "metadata": {
        "colab": {
          "base_uri": "https://localhost:8080/"
        },
        "id": "jWudfmNk6jaq",
        "outputId": "22ac149a-33b1-4c54-c162-bef116d96e79"
      },
      "execution_count": 17,
      "outputs": [
        {
          "output_type": "stream",
          "name": "stdout",
          "text": [
            "0.21117115\n"
          ]
        }
      ]
    },
    {
      "cell_type": "code",
      "source": [
        "# Get row and column tensors\n",
        "print(\"third row:\", rank_2_tensor[2, :].numpy())\n",
        "print(\"Second column:\", rank_2_tensor[:, 1].numpy())\n",
        "print(\"Last row:\", rank_2_tensor[-1, :].numpy())\n",
        "print(\"second item in last column:\", rank_2_tensor[1, -1].numpy())\n",
        "print(\"Skip the first row:\")\n",
        "print(rank_2_tensor[1:, :].numpy(), \"\\n\")\n",
        "print(\"Skip the last row:\")\n",
        "print(rank_2_tensor[:-1, :].numpy(), \"\\n\")"
      ],
      "metadata": {
        "colab": {
          "base_uri": "https://localhost:8080/"
        },
        "id": "qMtwnKvS6jYY",
        "outputId": "af012fc1-03ae-40b5-b295-05131f4e8536"
      },
      "execution_count": 18,
      "outputs": [
        {
          "output_type": "stream",
          "name": "stdout",
          "text": [
            "third row: [ 1.3694826 -1.0547215  2.1501832]\n",
            "Second column: [ 0.2626678   0.21117115 -1.0547215 ]\n",
            "Last row: [ 1.3694826 -1.0547215  2.1501832]\n",
            "second item in last column: 0.86258286\n",
            "Skip the first row:\n",
            "[[-0.3155075   0.21117115  0.86258286]\n",
            " [ 1.3694826  -1.0547215   2.1501832 ]] \n",
            "\n",
            "Skip the last row:\n",
            "[[ 0.69418174  0.2626678   2.580449  ]\n",
            " [-0.3155075   0.21117115  0.86258286]] \n",
            "\n"
          ]
        }
      ]
    },
    {
      "cell_type": "markdown",
      "source": [
        "**Manipulating Shapes**"
      ],
      "metadata": {
        "id": "Z2tRhzL4_qWt"
      }
    },
    {
      "cell_type": "code",
      "source": [
        "x = tf.random.normal([3,1])\n",
        "print(x.shape)"
      ],
      "metadata": {
        "colab": {
          "base_uri": "https://localhost:8080/"
        },
        "id": "nURa_0Ko6i9w",
        "outputId": "0fe37d16-09af-4f4b-db12-fcda1b0724c7"
      },
      "execution_count": 19,
      "outputs": [
        {
          "output_type": "stream",
          "name": "stdout",
          "text": [
            "(3, 1)\n"
          ]
        }
      ]
    },
    {
      "cell_type": "code",
      "source": [
        "# You can convert this object into a Python list, too\n",
        "print(x.shape.as_list())"
      ],
      "metadata": {
        "colab": {
          "base_uri": "https://localhost:8080/"
        },
        "id": "ctLS61vDAAIR",
        "outputId": "6ae0f2df-48bf-47b8-f422-b51848d8d26d"
      },
      "execution_count": 20,
      "outputs": [
        {
          "output_type": "stream",
          "name": "stdout",
          "text": [
            "[3, 1]\n"
          ]
        }
      ]
    },
    {
      "cell_type": "code",
      "source": [
        "#reshape tensor\n",
        "reshape = tf.reshape(x, [1, 3])\n",
        "print(reshape.shape)"
      ],
      "metadata": {
        "colab": {
          "base_uri": "https://localhost:8080/"
        },
        "id": "endq1MoHAELg",
        "outputId": "58757106-4032-48da-a878-5035a71d6513"
      },
      "execution_count": 21,
      "outputs": [
        {
          "output_type": "stream",
          "name": "stdout",
          "text": [
            "(1, 3)\n"
          ]
        }
      ]
    },
    {
      "cell_type": "code",
      "source": [
        "# A `-1` passed in the `shape` argument says \"Whatever fits\".\n",
        "print(tf.reshape(rank_3_tensor, [-1]))"
      ],
      "metadata": {
        "colab": {
          "base_uri": "https://localhost:8080/"
        },
        "id": "XRRnAfC2AERo",
        "outputId": "36344b6d-32dd-4f04-d077-1dc48924d234"
      },
      "execution_count": 22,
      "outputs": [
        {
          "output_type": "stream",
          "name": "stdout",
          "text": [
            "tf.Tensor(\n",
            "[ 0  1  2  3  4  5  6  7  8  9 10 11 12 13 14 15 16 17 18 19 20 21 22 23\n",
            " 24 25 26 27 28 29], shape=(30,), dtype=int32)\n"
          ]
        }
      ]
    },
    {
      "cell_type": "code",
      "source": [
        "#Typically the only reasonable use of tf.reshape is to combine or split adjacent axes (or add/remove 1s).\n",
        "\n",
        "print(tf.reshape(rank_3_tensor, [3*5, 2]), \"\\n\")\n",
        "print(tf.reshape(rank_3_tensor, [3, -1]))"
      ],
      "metadata": {
        "colab": {
          "base_uri": "https://localhost:8080/"
        },
        "id": "7wl2WLncAylN",
        "outputId": "62f15fb9-c35b-4989-aa51-0520b9aee514"
      },
      "execution_count": 23,
      "outputs": [
        {
          "output_type": "stream",
          "name": "stdout",
          "text": [
            "tf.Tensor(\n",
            "[[ 0  1]\n",
            " [ 2  3]\n",
            " [ 4  5]\n",
            " [ 6  7]\n",
            " [ 8  9]\n",
            " [10 11]\n",
            " [12 13]\n",
            " [14 15]\n",
            " [16 17]\n",
            " [18 19]\n",
            " [20 21]\n",
            " [22 23]\n",
            " [24 25]\n",
            " [26 27]\n",
            " [28 29]], shape=(15, 2), dtype=int32) \n",
            "\n",
            "tf.Tensor(\n",
            "[[ 0  1  2  3  4  5  6  7  8  9]\n",
            " [10 11 12 13 14 15 16 17 18 19]\n",
            " [20 21 22 23 24 25 26 27 28 29]], shape=(3, 10), dtype=int32)\n"
          ]
        }
      ]
    },
    {
      "cell_type": "markdown",
      "source": [
        "**DTYPES**"
      ],
      "metadata": {
        "id": "BEa4LwAmBYZH"
      }
    },
    {
      "cell_type": "markdown",
      "source": [
        "*If we don't specify the dtype, TensorFlow chooses a datatype that can represent your data. TensorFlow converts Python integers to tf.int32 and Python floating point numbers to tf.float32. Otherwise TensorFlow uses the same rules NumPy uses when converting to arrays.*"
      ],
      "metadata": {
        "id": "W0E6km4XBhYc"
      }
    },
    {
      "cell_type": "code",
      "source": [
        "the_f64_tensor = tf.constant([2.2, 3.3, 4.4], dtype=tf.float64)\n",
        "the_f16_tensor = tf.cast(the_f64_tensor, dtype=tf.float16)\n",
        "# Now, cast to an uint8 and lose the decimal precision\n",
        "the_u8_tensor = tf.cast(the_f16_tensor, dtype=tf.uint8)\n",
        "print(the_u8_tensor)"
      ],
      "metadata": {
        "colab": {
          "base_uri": "https://localhost:8080/"
        },
        "id": "sD03ugB2Balm",
        "outputId": "cef2d68a-3cf8-487e-9cb2-678035a46ba5"
      },
      "execution_count": 24,
      "outputs": [
        {
          "output_type": "stream",
          "name": "stdout",
          "text": [
            "tf.Tensor([2 3 4], shape=(3,), dtype=uint8)\n"
          ]
        }
      ]
    },
    {
      "cell_type": "markdown",
      "source": [
        "**BRADCASTING**"
      ],
      "metadata": {
        "id": "Uj0rQpi0BzKh"
      }
    },
    {
      "cell_type": "markdown",
      "source": [
        "Broadcasting is a concept borrowed from the equivalent feature in NumPy. In short, under certain conditions, smaller tensors are \"stretched\" automatically to fit larger tensors when running combined operations on them.\n",
        "\n",
        "The simplest and most common case is when you attempt to multiply or add a tensor to a scalar. In that case, the scalar is broadcast to be the same shape as the other argument."
      ],
      "metadata": {
        "id": "Gv9ifBFvB3O8"
      }
    },
    {
      "cell_type": "code",
      "source": [
        "x = tf.constant([1, 2, 3])\n",
        "\n",
        "y = tf.constant(2)\n",
        "z = tf.constant([2, 2, 2])\n",
        "# All of these are the same computation\n",
        "print(tf.multiply(x, 2))\n",
        "print(x * y)\n",
        "print(x * z)"
      ],
      "metadata": {
        "colab": {
          "base_uri": "https://localhost:8080/"
        },
        "id": "1ue6RXw3B1EQ",
        "outputId": "9528deaa-4e52-4849-bc02-89b00e28264b"
      },
      "execution_count": 25,
      "outputs": [
        {
          "output_type": "stream",
          "name": "stdout",
          "text": [
            "tf.Tensor([2 4 6], shape=(3,), dtype=int32)\n",
            "tf.Tensor([2 4 6], shape=(3,), dtype=int32)\n",
            "tf.Tensor([2 4 6], shape=(3,), dtype=int32)\n"
          ]
        }
      ]
    },
    {
      "cell_type": "code",
      "source": [
        "# These are the same computations\n",
        "x = tf.reshape(x,[3,1])\n",
        "y = tf.range(1, 5)\n",
        "print(x, \"\\n\")\n",
        "print(y, \"\\n\")\n",
        "print(tf.multiply(x, y))"
      ],
      "metadata": {
        "colab": {
          "base_uri": "https://localhost:8080/"
        },
        "id": "9bspI4UQCGHD",
        "outputId": "979c7f25-793e-4a4d-c2ec-8c8de0e40287"
      },
      "execution_count": 26,
      "outputs": [
        {
          "output_type": "stream",
          "name": "stdout",
          "text": [
            "tf.Tensor(\n",
            "[[1]\n",
            " [2]\n",
            " [3]], shape=(3, 1), dtype=int32) \n",
            "\n",
            "tf.Tensor([1 2 3 4], shape=(4,), dtype=int32) \n",
            "\n",
            "tf.Tensor(\n",
            "[[ 1  2  3  4]\n",
            " [ 2  4  6  8]\n",
            " [ 3  6  9 12]], shape=(3, 4), dtype=int32)\n"
          ]
        }
      ]
    },
    {
      "cell_type": "code",
      "source": [
        "x_stretch = tf.constant([[1, 1, 1, 1],\n",
        "                         [2, 2, 2, 2],\n",
        "                         [3, 3, 3, 3]])\n",
        "\n",
        "y_stretch = tf.constant([[1, 2, 3, 4],\n",
        "                         [1, 2, 3, 4],\n",
        "                         [1, 2, 3, 4]])\n",
        "\n",
        "print(x_stretch * y_stretch)  # Again, operator overloading"
      ],
      "metadata": {
        "colab": {
          "base_uri": "https://localhost:8080/"
        },
        "id": "Xi9abUsGCJiz",
        "outputId": "f56e244e-106a-41cc-f07e-d299c009d271"
      },
      "execution_count": 27,
      "outputs": [
        {
          "output_type": "stream",
          "name": "stdout",
          "text": [
            "tf.Tensor(\n",
            "[[ 1  2  3  4]\n",
            " [ 2  4  6  8]\n",
            " [ 3  6  9 12]], shape=(3, 4), dtype=int32)\n"
          ]
        }
      ]
    },
    {
      "cell_type": "code",
      "source": [
        "print(tf.broadcast_to(tf.constant([1, 2, 3]), [3, 3]))"
      ],
      "metadata": {
        "colab": {
          "base_uri": "https://localhost:8080/"
        },
        "id": "9iT8VfcsCru3",
        "outputId": "d1179c62-f40d-4fac-f72c-9d339e1609a9"
      },
      "execution_count": 28,
      "outputs": [
        {
          "output_type": "stream",
          "name": "stdout",
          "text": [
            "tf.Tensor(\n",
            "[[1 2 3]\n",
            " [1 2 3]\n",
            " [1 2 3]], shape=(3, 3), dtype=int32)\n"
          ]
        }
      ]
    },
    {
      "cell_type": "markdown",
      "source": [
        "**Ragged Tensors**"
      ],
      "metadata": {
        "id": "yW63eKzJDDQQ"
      }
    },
    {
      "cell_type": "markdown",
      "source": [
        "A tensor with variable numbers of elements along some axis is called \"ragged\". Use tf.ragged.RaggedTensor for ragged data.\n",
        "\n",
        "For example, This cannot be represented as a regular tensor:"
      ],
      "metadata": {
        "id": "uGZxEmtyEtf-"
      }
    },
    {
      "cell_type": "code",
      "source": [
        "ragged_list = [\n",
        "    [0, 1, 2, 3],\n",
        "    [4, 5],\n",
        "    [6, 7, 8],\n",
        "    [9]]"
      ],
      "metadata": {
        "id": "txO3x2TmC8UR"
      },
      "execution_count": 29,
      "outputs": []
    },
    {
      "cell_type": "code",
      "source": [
        "try:\n",
        "  tensor = tf.constant(ragged_list)\n",
        "except Exception as e:\n",
        "  print(f\"{type(e).__name__}: {e}\")"
      ],
      "metadata": {
        "colab": {
          "base_uri": "https://localhost:8080/"
        },
        "id": "kEHOokuMDL1A",
        "outputId": "95bfdd70-771c-4a79-e201-8f17c7d38802"
      },
      "execution_count": 30,
      "outputs": [
        {
          "output_type": "stream",
          "name": "stdout",
          "text": [
            "ValueError: Can't convert non-rectangular Python sequence to Tensor.\n"
          ]
        }
      ]
    },
    {
      "cell_type": "code",
      "source": [
        "ragged_tensor = tf.ragged.constant(ragged_list)\n",
        "print(ragged_tensor)"
      ],
      "metadata": {
        "colab": {
          "base_uri": "https://localhost:8080/"
        },
        "id": "fnvqDDQoDQDg",
        "outputId": "7fe2f128-3aee-4612-b529-7e5d398c2893"
      },
      "execution_count": 31,
      "outputs": [
        {
          "output_type": "stream",
          "name": "stdout",
          "text": [
            "<tf.RaggedTensor [[0, 1, 2, 3], [4, 5], [6, 7, 8], [9]]>\n"
          ]
        }
      ]
    },
    {
      "cell_type": "code",
      "source": [
        "print(ragged_tensor.shape)"
      ],
      "metadata": {
        "colab": {
          "base_uri": "https://localhost:8080/"
        },
        "id": "lnpEazdSDSns",
        "outputId": "1f9f0071-3233-46d1-f454-ad46ef87e411"
      },
      "execution_count": 32,
      "outputs": [
        {
          "output_type": "stream",
          "name": "stdout",
          "text": [
            "(4, None)\n"
          ]
        }
      ]
    },
    {
      "cell_type": "markdown",
      "source": [
        "**String tensors**"
      ],
      "metadata": {
        "id": "gN60f3iCDoSx"
      }
    },
    {
      "cell_type": "code",
      "source": [
        "# Tensors can be strings, too here is a scalar string.\n",
        "scalar_string_tensor = tf.constant(\"Gray wolf\")\n",
        "print(scalar_string_tensor)"
      ],
      "metadata": {
        "colab": {
          "base_uri": "https://localhost:8080/"
        },
        "id": "zYAnzyydDpiN",
        "outputId": "06b95a2f-2817-4dae-f527-9cf06e6e34ee"
      },
      "execution_count": 33,
      "outputs": [
        {
          "output_type": "stream",
          "name": "stdout",
          "text": [
            "tf.Tensor(b'Gray wolf', shape=(), dtype=string)\n"
          ]
        }
      ]
    },
    {
      "cell_type": "code",
      "source": [
        "# If you have three string tensors of different lengths, this is OK.\n",
        "tensor_of_strings = tf.constant([\"Gray wolf\",\n",
        "                                 \"Quick brown fox\",\n",
        "                                 \"Lazy dog\"])\n",
        "# Note that the shape is (3,). The string length is not included.\n",
        "print(tensor_of_strings)"
      ],
      "metadata": {
        "colab": {
          "base_uri": "https://localhost:8080/"
        },
        "id": "YdoaXl9pDyJL",
        "outputId": "6913c804-730d-48b9-d4f3-16d1b6a9f6d6"
      },
      "execution_count": 34,
      "outputs": [
        {
          "output_type": "stream",
          "name": "stdout",
          "text": [
            "tf.Tensor([b'Gray wolf' b'Quick brown fox' b'Lazy dog'], shape=(3,), dtype=string)\n"
          ]
        }
      ]
    },
    {
      "cell_type": "code",
      "source": [
        "#tf.string.to_number\n",
        "\n",
        "text = tf.constant(\"1 10 100\")\n",
        "print(tf.strings.to_number(tf.strings.split(text, \" \")))"
      ],
      "metadata": {
        "colab": {
          "base_uri": "https://localhost:8080/"
        },
        "id": "VZysJYDcD1pE",
        "outputId": "e2438549-077c-4472-c56e-97e5b8edbf0d"
      },
      "execution_count": 35,
      "outputs": [
        {
          "output_type": "stream",
          "name": "stdout",
          "text": [
            "tf.Tensor([  1.  10. 100.], shape=(3,), dtype=float32)\n"
          ]
        }
      ]
    },
    {
      "cell_type": "markdown",
      "source": [
        "you can't use tf.cast to turn a string tensor into numbers, you can convert it into bytes, and then into numbers."
      ],
      "metadata": {
        "id": "15O-LkgyFOMF"
      }
    },
    {
      "cell_type": "code",
      "source": [
        "byte_strings = tf.strings.bytes_split(tf.constant(\"Duck\"))\n",
        "byte_ints = tf.io.decode_raw(tf.constant(\"Duck\"), tf.uint8)\n",
        "print(\"Byte strings:\", byte_strings)\n",
        "print(\"Bytes:\", byte_ints)"
      ],
      "metadata": {
        "colab": {
          "base_uri": "https://localhost:8080/"
        },
        "id": "Va9W92rUEUlH",
        "outputId": "b187bdab-9d2e-494a-fac6-bf24ff4a588e"
      },
      "execution_count": 36,
      "outputs": [
        {
          "output_type": "stream",
          "name": "stdout",
          "text": [
            "Byte strings: tf.Tensor([b'D' b'u' b'c' b'k'], shape=(4,), dtype=string)\n",
            "Bytes: tf.Tensor([ 68 117  99 107], shape=(4,), dtype=uint8)\n"
          ]
        }
      ]
    },
    {
      "cell_type": "code",
      "source": [
        "# Or split it up as unicode and then decode it\n",
        "unicode_bytes = tf.constant(\"アヒル 🦆\")\n",
        "unicode_char_bytes = tf.strings.unicode_split(unicode_bytes, \"UTF-8\")\n",
        "unicode_values = tf.strings.unicode_decode(unicode_bytes, \"UTF-8\")\n",
        "\n",
        "print(\"\\nUnicode bytes:\", unicode_bytes)\n",
        "print(\"\\nUnicode chars:\", unicode_char_bytes)\n",
        "print(\"\\nUnicode values:\", unicode_values)"
      ],
      "metadata": {
        "colab": {
          "base_uri": "https://localhost:8080/"
        },
        "id": "j3V7UT74EZJ7",
        "outputId": "72473542-d9ab-4cb7-85d0-1b61e7888d04"
      },
      "execution_count": 37,
      "outputs": [
        {
          "output_type": "stream",
          "name": "stdout",
          "text": [
            "\n",
            "Unicode bytes: tf.Tensor(b'\\xe3\\x82\\xa2\\xe3\\x83\\x92\\xe3\\x83\\xab \\xf0\\x9f\\xa6\\x86', shape=(), dtype=string)\n",
            "\n",
            "Unicode chars: tf.Tensor([b'\\xe3\\x82\\xa2' b'\\xe3\\x83\\x92' b'\\xe3\\x83\\xab' b' ' b'\\xf0\\x9f\\xa6\\x86'], shape=(5,), dtype=string)\n",
            "\n",
            "Unicode values: tf.Tensor([ 12450  12498  12523     32 129414], shape=(5,), dtype=int32)\n"
          ]
        }
      ]
    },
    {
      "cell_type": "markdown",
      "source": [
        "**Sparse Tensors**"
      ],
      "metadata": {
        "id": "R7MyUGYuEcdU"
      }
    },
    {
      "cell_type": "code",
      "source": [
        "# Sparse tensors store values by index in a memory-efficient manner\n",
        "sparse_tensor = tf.sparse.SparseTensor(indices=[[0, 0], [1, 2]],\n",
        "                                       values=[1, 2],\n",
        "                                       dense_shape=[3, 4])\n",
        "print(sparse_tensor, \"\\n\")\n",
        "\n",
        "# You can convert sparse tensors to dense\n",
        "print(tf.sparse.to_dense(sparse_tensor))"
      ],
      "metadata": {
        "colab": {
          "base_uri": "https://localhost:8080/"
        },
        "id": "D3eNhXeWEfG0",
        "outputId": "be230a62-06bc-4bdb-d8f0-52bad45cb4a9"
      },
      "execution_count": 38,
      "outputs": [
        {
          "output_type": "stream",
          "name": "stdout",
          "text": [
            "SparseTensor(indices=tf.Tensor(\n",
            "[[0 0]\n",
            " [1 2]], shape=(2, 2), dtype=int64), values=tf.Tensor([1 2], shape=(2,), dtype=int32), dense_shape=tf.Tensor([3 4], shape=(2,), dtype=int64)) \n",
            "\n",
            "tf.Tensor(\n",
            "[[1 0 0 0]\n",
            " [0 0 2 0]\n",
            " [0 0 0 0]], shape=(3, 4), dtype=int32)\n"
          ]
        }
      ]
    },
    {
      "cell_type": "markdown",
      "source": [
        "### **PYTORCH**"
      ],
      "metadata": {
        "id": "vAzHNUdpEhig"
      }
    },
    {
      "cell_type": "markdown",
      "source": [
        "**BASIC OPERATIONS**"
      ],
      "metadata": {
        "id": "1ahCkvoXH01u"
      }
    },
    {
      "cell_type": "code",
      "source": [
        "rank_0_tensor = torch.tensor(10)\n",
        "print(rank_0_tensor)\n",
        "print(rank_0_tensor.dtype)\n",
        "#default dtype\n",
        "torch.get_default_dtype()"
      ],
      "metadata": {
        "colab": {
          "base_uri": "https://localhost:8080/"
        },
        "id": "Y7uKahec4X5f",
        "outputId": "13e7cde4-df80-44d5-bfb2-46e967639f64"
      },
      "execution_count": 39,
      "outputs": [
        {
          "output_type": "stream",
          "name": "stdout",
          "text": [
            "tensor(10)\n",
            "torch.int64\n"
          ]
        },
        {
          "output_type": "execute_result",
          "data": {
            "text/plain": [
              "torch.float32"
            ]
          },
          "metadata": {},
          "execution_count": 39
        }
      ]
    },
    {
      "cell_type": "code",
      "source": [
        "# Let's make this a float tensor.\n",
        "rank_1_tensor = torch.tensor([2.0, 3.0, 4.0])\n",
        "print(rank_1_tensor)"
      ],
      "metadata": {
        "colab": {
          "base_uri": "https://localhost:8080/"
        },
        "id": "sNHIqzQPF0Uj",
        "outputId": "02d16ee9-10d2-4e57-a22d-8f672498c803"
      },
      "execution_count": 40,
      "outputs": [
        {
          "output_type": "stream",
          "name": "stdout",
          "text": [
            "tensor([2., 3., 4.])\n"
          ]
        }
      ]
    },
    {
      "cell_type": "code",
      "source": [
        "# If you want to be specific, you can set the dtype (see below) at creation time\n",
        "rank_2_tensor = torch.tensor([[1, 2],\n",
        "                             [3, 4],\n",
        "                             [5, 6]], dtype=torch.float16)\n",
        "print(rank_2_tensor)"
      ],
      "metadata": {
        "colab": {
          "base_uri": "https://localhost:8080/"
        },
        "id": "pxdCwYNVF76v",
        "outputId": "acb767bc-e7c5-45a2-f77e-7c4d15c184f9"
      },
      "execution_count": 41,
      "outputs": [
        {
          "output_type": "stream",
          "name": "stdout",
          "text": [
            "tensor([[1., 2.],\n",
            "        [3., 4.],\n",
            "        [5., 6.]], dtype=torch.float16)\n"
          ]
        }
      ]
    },
    {
      "cell_type": "code",
      "source": [
        "# There can be an arbitrary number of\n",
        "# axes (sometimes called \"dimensions\")\n",
        "rank_3_tensor = torch.tensor([\n",
        "  [[0, 1, 2, 3, 4],\n",
        "   [5, 6, 7, 8, 9]],\n",
        "  [[10, 11, 12, 13, 14],\n",
        "   [15, 16, 17, 18, 19]],\n",
        "  [[20, 21, 22, 23, 24],\n",
        "   [25, 26, 27, 28, 29]],])\n",
        "\n",
        "print(rank_3_tensor)"
      ],
      "metadata": {
        "colab": {
          "base_uri": "https://localhost:8080/"
        },
        "id": "0sHpWDH7GFsW",
        "outputId": "088d00aa-6c83-4da1-87b3-91762ee09b63"
      },
      "execution_count": 42,
      "outputs": [
        {
          "output_type": "stream",
          "name": "stdout",
          "text": [
            "tensor([[[ 0,  1,  2,  3,  4],\n",
            "         [ 5,  6,  7,  8,  9]],\n",
            "\n",
            "        [[10, 11, 12, 13, 14],\n",
            "         [15, 16, 17, 18, 19]],\n",
            "\n",
            "        [[20, 21, 22, 23, 24],\n",
            "         [25, 26, 27, 28, 29]]])\n"
          ]
        }
      ]
    },
    {
      "cell_type": "code",
      "source": [
        "#convert to numpy array\n",
        "\n",
        "np.array(rank_2_tensor)\n",
        "#or\n",
        "rank_2_tensor.numpy()"
      ],
      "metadata": {
        "colab": {
          "base_uri": "https://localhost:8080/"
        },
        "outputId": "09e23d9e-4d83-46a2-908c-f5b7f383ee15",
        "id": "FFkkBf0BGTUx"
      },
      "execution_count": 43,
      "outputs": [
        {
          "output_type": "execute_result",
          "data": {
            "text/plain": [
              "array([[1., 2.],\n",
              "       [3., 4.],\n",
              "       [5., 6.]], dtype=float16)"
            ]
          },
          "metadata": {},
          "execution_count": 43
        }
      ]
    },
    {
      "cell_type": "code",
      "source": [
        "a=torch.tensor([[1,2]])\n",
        "b=torch.tensor([[3,4],[4,5]])\n",
        "\n",
        "#math operations\n",
        "print(torch.add(a,b),\"\\n\")\n",
        "print(torch.multiply(a,b),\"\\n\")\n",
        "print(torch.matmul(a,b))"
      ],
      "metadata": {
        "colab": {
          "base_uri": "https://localhost:8080/"
        },
        "outputId": "9094b981-c558-483f-c872-613491f860ef",
        "id": "C44ddSNkGTUy"
      },
      "execution_count": 44,
      "outputs": [
        {
          "output_type": "stream",
          "name": "stdout",
          "text": [
            "tensor([[4, 6],\n",
            "        [5, 7]]) \n",
            "\n",
            "tensor([[ 3,  8],\n",
            "        [ 4, 10]]) \n",
            "\n",
            "tensor([[11, 14]])\n"
          ]
        }
      ]
    },
    {
      "cell_type": "code",
      "source": [
        "#the above operations via operators\n",
        "\n",
        "print(a + b, \"\\n\") # element-wise addition\n",
        "print(a * b, \"\\n\") # element-wise multiplication\n",
        "print(a @ b, \"\\n\") # matrix multiplication"
      ],
      "metadata": {
        "colab": {
          "base_uri": "https://localhost:8080/"
        },
        "id": "YbDpQe5lGwZy",
        "outputId": "906214d3-69b2-4971-eac5-4de938d47194"
      },
      "execution_count": 45,
      "outputs": [
        {
          "output_type": "stream",
          "name": "stdout",
          "text": [
            "tensor([[4, 6],\n",
            "        [5, 7]]) \n",
            "\n",
            "tensor([[ 3,  8],\n",
            "        [ 4, 10]]) \n",
            "\n",
            "tensor([[11, 14]]) \n",
            "\n"
          ]
        }
      ]
    },
    {
      "cell_type": "code",
      "source": [
        "from torch import nn\n",
        "\n",
        "c = torch.tensor([[4.0, 5.0], [10.0, 1.0]])\n",
        "\n",
        "# Find the largest value\n",
        "print(torch.max(c))\n",
        "# Find the index of the largest value\n",
        "print(torch.argmax(c))\n",
        "# Compute the softmax\n",
        "m = nn.Softmax(dim=1)\n",
        "print(m(c))"
      ],
      "metadata": {
        "colab": {
          "base_uri": "https://localhost:8080/"
        },
        "id": "2KKQrbmIGFxE",
        "outputId": "e177b807-8d78-4bd7-f659-9e5d9f3ae45f"
      },
      "execution_count": 46,
      "outputs": [
        {
          "output_type": "stream",
          "name": "stdout",
          "text": [
            "tensor(10.)\n",
            "tensor(2)\n",
            "tensor([[2.6894e-01, 7.3106e-01],\n",
            "        [9.9988e-01, 1.2339e-04]])\n"
          ]
        }
      ]
    },
    {
      "cell_type": "markdown",
      "source": [
        "**SHAPES**"
      ],
      "metadata": {
        "id": "9ZBZ0WVPID2-"
      }
    },
    {
      "cell_type": "markdown",
      "source": [
        "Tensors have shapes.\n",
        "\n",
        "Shape: The length (number of elements) of each of the axes of a tensor.\n",
        "\n",
        "Rank: Number of tensor axes. A scalar has rank 0, a vector has rank 1, a matrix is rank 2.\n",
        "\n",
        "Axis or Dimension: A particular dimension of a tensor.\n",
        "\n",
        "Size: The total number of items in the tensor, the product shape vector."
      ],
      "metadata": {
        "id": "npDKQ1bvID2-"
      }
    },
    {
      "cell_type": "code",
      "source": [
        "rank_4_tensor = torch.zeros([3, 2, 4, 5])"
      ],
      "metadata": {
        "id": "SA3w-JrEID2-"
      },
      "execution_count": 47,
      "outputs": []
    },
    {
      "cell_type": "code",
      "source": [
        "print(\"Type of every element:\", rank_4_tensor.dtype)\n",
        "print(\"Number of axes:\", rank_4_tensor.ndim)\n",
        "print(\"Shape of tensor:\", rank_4_tensor.shape)\n",
        "print(\"Elements along axis 0 of tensor:\", rank_4_tensor.shape[0])\n",
        "print(\"Elements along the last axis of tensor:\", rank_4_tensor.shape[-1])\n",
        "print(\"Total number of elements (3*2*4*5): \", tf.size(rank_4_tensor).numpy())"
      ],
      "metadata": {
        "colab": {
          "base_uri": "https://localhost:8080/"
        },
        "outputId": "3c9e78a7-3a09-4576-cc0c-c5040b564104",
        "id": "RsUFyRPsID2_"
      },
      "execution_count": 48,
      "outputs": [
        {
          "output_type": "stream",
          "name": "stdout",
          "text": [
            "Type of every element: torch.float32\n",
            "Number of axes: 4\n",
            "Shape of tensor: torch.Size([3, 2, 4, 5])\n",
            "Elements along axis 0 of tensor: 3\n",
            "Elements along the last axis of tensor: 5\n",
            "Total number of elements (3*2*4*5):  120\n"
          ]
        }
      ]
    },
    {
      "cell_type": "markdown",
      "source": [
        "**INDEXING**"
      ],
      "metadata": {
        "id": "HSQzUpzeID2_"
      }
    },
    {
      "cell_type": "code",
      "source": [
        "rank_1_tensor = torch.tensor([0, 1, 1, 2, 3, 5, 8, 13, 21, 34])\n",
        "print(rank_1_tensor.numpy())"
      ],
      "metadata": {
        "colab": {
          "base_uri": "https://localhost:8080/"
        },
        "outputId": "7d2b1d25-5550-49fe-e569-b20fba46e59b",
        "id": "xoCoVPKPID2_"
      },
      "execution_count": 49,
      "outputs": [
        {
          "output_type": "stream",
          "name": "stdout",
          "text": [
            "[ 0  1  1  2  3  5  8 13 21 34]\n"
          ]
        }
      ]
    },
    {
      "cell_type": "code",
      "source": [
        "print(\"First:\", rank_1_tensor[0].numpy())\n",
        "print(\"Second:\", rank_1_tensor[1].numpy())\n",
        "print(\"Last:\", rank_1_tensor[-1].numpy())\n",
        "print(\"second from last:\", rank_1_tensor[-2].numpy())"
      ],
      "metadata": {
        "colab": {
          "base_uri": "https://localhost:8080/"
        },
        "outputId": "59086d49-c2b3-484d-b806-5318d58c67b4",
        "id": "qMwCLK6ZID2_"
      },
      "execution_count": 50,
      "outputs": [
        {
          "output_type": "stream",
          "name": "stdout",
          "text": [
            "First: 0\n",
            "Second: 1\n",
            "Last: 34\n",
            "second from last: 21\n"
          ]
        }
      ]
    },
    {
      "cell_type": "code",
      "source": [
        "print(\"Everything:\", rank_1_tensor[:].numpy())\n",
        "print(\"Before 4:\", rank_1_tensor[:4].numpy())\n",
        "print(\"From 4 to the end:\", rank_1_tensor[4:].numpy())\n",
        "print(\"From 2, before 7:\", rank_1_tensor[2:7].numpy())\n",
        "print(\"Every other item:\", rank_1_tensor[::2].numpy())\n",
        "print(\"Reversed:\", torch.flip(rank_1_tensor,[0,]).numpy())"
      ],
      "metadata": {
        "colab": {
          "base_uri": "https://localhost:8080/"
        },
        "outputId": "68c99ba0-568e-4855-89b4-166d110308e4",
        "id": "Q9ZxC_z1ID2_"
      },
      "execution_count": 51,
      "outputs": [
        {
          "output_type": "stream",
          "name": "stdout",
          "text": [
            "Everything: [ 0  1  1  2  3  5  8 13 21 34]\n",
            "Before 4: [0 1 1 2]\n",
            "From 4 to the end: [ 3  5  8 13 21 34]\n",
            "From 2, before 7: [1 2 3 5 8]\n",
            "Every other item: [ 0  1  3  8 21]\n",
            "Reversed: [34 21 13  8  5  3  2  1  1  0]\n"
          ]
        }
      ]
    },
    {
      "cell_type": "code",
      "source": [
        "rank_2_tensor=torch.rand([3,3])"
      ],
      "metadata": {
        "id": "ktrbVlPjID2_"
      },
      "execution_count": 52,
      "outputs": []
    },
    {
      "cell_type": "code",
      "source": [
        "rank_2_tensor.numpy()"
      ],
      "metadata": {
        "colab": {
          "base_uri": "https://localhost:8080/"
        },
        "outputId": "92ac5b27-0b1e-4eba-b1f7-2f9a7948e809",
        "id": "__y8PgwHID2_"
      },
      "execution_count": 53,
      "outputs": [
        {
          "output_type": "execute_result",
          "data": {
            "text/plain": [
              "array([[0.50714034, 0.7243746 , 0.00686812],\n",
              "       [0.01392823, 0.29686671, 0.5654011 ],\n",
              "       [0.29874754, 0.06607562, 0.8512379 ]], dtype=float32)"
            ]
          },
          "metadata": {},
          "execution_count": 53
        }
      ]
    },
    {
      "cell_type": "code",
      "source": [
        "# Pull out a single value from a 2-rank tensor\n",
        "print(rank_2_tensor[1, 1].numpy())"
      ],
      "metadata": {
        "colab": {
          "base_uri": "https://localhost:8080/"
        },
        "outputId": "bcd0c3c3-9d5f-44ac-80bd-3e3a636b4e4e",
        "id": "qhcapSWFID2_"
      },
      "execution_count": 54,
      "outputs": [
        {
          "output_type": "stream",
          "name": "stdout",
          "text": [
            "0.29686671\n"
          ]
        }
      ]
    },
    {
      "cell_type": "code",
      "source": [
        "# Get row and column tensors\n",
        "print(\"third row:\", rank_2_tensor[2, :].numpy())\n",
        "print(\"Second column:\", rank_2_tensor[:, 1].numpy())\n",
        "print(\"Last row:\", rank_2_tensor[-1, :].numpy())\n",
        "print(\"second item in last column:\", rank_2_tensor[1, -1].numpy())\n",
        "print(\"Skip the first row:\")\n",
        "print(rank_2_tensor[1:, :].numpy(), \"\\n\")\n",
        "print(\"Skip the last row:\")\n",
        "print(rank_2_tensor[:-1, :].numpy(), \"\\n\")"
      ],
      "metadata": {
        "colab": {
          "base_uri": "https://localhost:8080/"
        },
        "outputId": "91beee8c-3ab4-4810-df42-22d5f5118b4d",
        "id": "gwLcEv_1ID2_"
      },
      "execution_count": 55,
      "outputs": [
        {
          "output_type": "stream",
          "name": "stdout",
          "text": [
            "third row: [0.29874754 0.06607562 0.8512379 ]\n",
            "Second column: [0.7243746  0.29686671 0.06607562]\n",
            "Last row: [0.29874754 0.06607562 0.8512379 ]\n",
            "second item in last column: 0.5654011\n",
            "Skip the first row:\n",
            "[[0.01392823 0.29686671 0.5654011 ]\n",
            " [0.29874754 0.06607562 0.8512379 ]] \n",
            "\n",
            "Skip the last row:\n",
            "[[0.50714034 0.7243746  0.00686812]\n",
            " [0.01392823 0.29686671 0.5654011 ]] \n",
            "\n"
          ]
        }
      ]
    },
    {
      "cell_type": "markdown",
      "source": [
        "**Manipulating Shapes**"
      ],
      "metadata": {
        "id": "NTNV_SEEID2_"
      }
    },
    {
      "cell_type": "code",
      "source": [
        "x = torch.rand([3,1])\n",
        "print(x.shape)"
      ],
      "metadata": {
        "colab": {
          "base_uri": "https://localhost:8080/"
        },
        "outputId": "39d35443-c2bb-42b2-ca39-7feb67e37a60",
        "id": "kxe0UIuTID2_"
      },
      "execution_count": 56,
      "outputs": [
        {
          "output_type": "stream",
          "name": "stdout",
          "text": [
            "torch.Size([3, 1])\n"
          ]
        }
      ]
    },
    {
      "cell_type": "code",
      "source": [
        "# You can convert this object into a Python list, too\n",
        "print(list(x.shape))"
      ],
      "metadata": {
        "colab": {
          "base_uri": "https://localhost:8080/"
        },
        "outputId": "18da736a-439a-4455-f56f-931ee80bdca5",
        "id": "AocHcTegID2_"
      },
      "execution_count": 57,
      "outputs": [
        {
          "output_type": "stream",
          "name": "stdout",
          "text": [
            "[3, 1]\n"
          ]
        }
      ]
    },
    {
      "cell_type": "code",
      "source": [
        "#reshape tensor\n",
        "reshape = torch.reshape(x, [1, 3])\n",
        "print(reshape.shape)"
      ],
      "metadata": {
        "colab": {
          "base_uri": "https://localhost:8080/"
        },
        "outputId": "12bba934-44b3-4194-c5e7-c177187b50db",
        "id": "sUor-oxcID2_"
      },
      "execution_count": 58,
      "outputs": [
        {
          "output_type": "stream",
          "name": "stdout",
          "text": [
            "torch.Size([1, 3])\n"
          ]
        }
      ]
    },
    {
      "cell_type": "code",
      "source": [
        "# A `-1` passed in the `shape` argument says \"Whatever fits\".\n",
        "print(torch.reshape(rank_3_tensor, [-1]))"
      ],
      "metadata": {
        "colab": {
          "base_uri": "https://localhost:8080/"
        },
        "outputId": "8080e614-05bc-43aa-fc7e-74dd5edcbbbf",
        "id": "sjGcU2sMID2_"
      },
      "execution_count": 59,
      "outputs": [
        {
          "output_type": "stream",
          "name": "stdout",
          "text": [
            "tensor([ 0,  1,  2,  3,  4,  5,  6,  7,  8,  9, 10, 11, 12, 13, 14, 15, 16, 17,\n",
            "        18, 19, 20, 21, 22, 23, 24, 25, 26, 27, 28, 29])\n"
          ]
        }
      ]
    },
    {
      "cell_type": "code",
      "source": [
        "#Typically the only reasonable use of tf.reshape is to combine or split adjacent axes (or add/remove 1s).\n",
        "\n",
        "print(torch.reshape(rank_3_tensor, [3*5, 2]), \"\\n\")\n",
        "print(torch.reshape(rank_3_tensor, [3, -1]))"
      ],
      "metadata": {
        "colab": {
          "base_uri": "https://localhost:8080/"
        },
        "outputId": "09b82585-8f9d-4ee3-ac5b-92729a69682c",
        "id": "5kJefWDdID2_"
      },
      "execution_count": 60,
      "outputs": [
        {
          "output_type": "stream",
          "name": "stdout",
          "text": [
            "tensor([[ 0,  1],\n",
            "        [ 2,  3],\n",
            "        [ 4,  5],\n",
            "        [ 6,  7],\n",
            "        [ 8,  9],\n",
            "        [10, 11],\n",
            "        [12, 13],\n",
            "        [14, 15],\n",
            "        [16, 17],\n",
            "        [18, 19],\n",
            "        [20, 21],\n",
            "        [22, 23],\n",
            "        [24, 25],\n",
            "        [26, 27],\n",
            "        [28, 29]]) \n",
            "\n",
            "tensor([[ 0,  1,  2,  3,  4,  5,  6,  7,  8,  9],\n",
            "        [10, 11, 12, 13, 14, 15, 16, 17, 18, 19],\n",
            "        [20, 21, 22, 23, 24, 25, 26, 27, 28, 29]])\n"
          ]
        }
      ]
    },
    {
      "cell_type": "markdown",
      "source": [
        "**DTYPES**"
      ],
      "metadata": {
        "id": "tbN8GI24ID3A"
      }
    },
    {
      "cell_type": "markdown",
      "source": [
        "*If we don't specify the dtype, pytorch chooses a datatype that can represent your data."
      ],
      "metadata": {
        "id": "b6H74CFSID3A"
      }
    },
    {
      "cell_type": "code",
      "source": [
        "the_f64_tensor = torch.tensor([2.2, 3.3, 4.4], dtype=torch.float64)\n",
        "the_f16_tensor = the_f64_tensor.type(torch.half)\n",
        "# Now, cast to an uint8 and lose the decimal precision\n",
        "the_u8_tensor = the_f16_tensor.type(torch.uint8)\n",
        "print(the_u8_tensor)"
      ],
      "metadata": {
        "colab": {
          "base_uri": "https://localhost:8080/"
        },
        "outputId": "d377468b-d3a2-4968-d67f-d51ab54246c3",
        "id": "GmXZJFo6ID3A"
      },
      "execution_count": 61,
      "outputs": [
        {
          "output_type": "stream",
          "name": "stdout",
          "text": [
            "tensor([2, 3, 4], dtype=torch.uint8)\n"
          ]
        }
      ]
    },
    {
      "cell_type": "markdown",
      "source": [
        "**BRADCASTING**"
      ],
      "metadata": {
        "id": "wiguMv10ID3A"
      }
    },
    {
      "cell_type": "markdown",
      "source": [
        "Broadcasting is a concept borrowed from the equivalent feature in NumPy. In short, under certain conditions, smaller tensors are \"stretched\" automatically to fit larger tensors when running combined operations on them.\n",
        "\n",
        "The simplest and most common case is when you attempt to multiply or add a tensor to a scalar. In that case, the scalar is broadcast to be the same shape as the other argument."
      ],
      "metadata": {
        "id": "yB2SgZ7JID3A"
      }
    },
    {
      "cell_type": "code",
      "source": [
        "x = torch.tensor([1, 2, 3])\n",
        "\n",
        "y = torch.tensor(2)\n",
        "z = torch.tensor([2, 2, 2])\n",
        "# All of these are the same computation\n",
        "print(torch.multiply(x, 2))\n",
        "print(x * y)\n",
        "print(x * z)"
      ],
      "metadata": {
        "colab": {
          "base_uri": "https://localhost:8080/"
        },
        "outputId": "1995c13f-9788-4857-9d63-da54c1bd5685",
        "id": "ZKdNbsOlID3A"
      },
      "execution_count": 62,
      "outputs": [
        {
          "output_type": "stream",
          "name": "stdout",
          "text": [
            "tensor([2, 4, 6])\n",
            "tensor([2, 4, 6])\n",
            "tensor([2, 4, 6])\n"
          ]
        }
      ]
    },
    {
      "cell_type": "code",
      "source": [
        "# These are the same computations\n",
        "x = torch.reshape(x,[3,1])\n",
        "y = torch.arange(1, 5)\n",
        "print(x, \"\\n\")\n",
        "print(y, \"\\n\")\n",
        "print(torch.multiply(x, y))"
      ],
      "metadata": {
        "colab": {
          "base_uri": "https://localhost:8080/"
        },
        "outputId": "0e147773-9376-41b0-c8d1-e6a948e1199a",
        "id": "DDtjyFRDID3A"
      },
      "execution_count": 63,
      "outputs": [
        {
          "output_type": "stream",
          "name": "stdout",
          "text": [
            "tensor([[1],\n",
            "        [2],\n",
            "        [3]]) \n",
            "\n",
            "tensor([1, 2, 3, 4]) \n",
            "\n",
            "tensor([[ 1,  2,  3,  4],\n",
            "        [ 2,  4,  6,  8],\n",
            "        [ 3,  6,  9, 12]])\n"
          ]
        }
      ]
    },
    {
      "cell_type": "code",
      "source": [
        "x_stretch = torch.tensor([[1, 1, 1, 1],\n",
        "                         [2, 2, 2, 2],\n",
        "                         [3, 3, 3, 3]])\n",
        "\n",
        "y_stretch = torch.tensor([[1, 2, 3, 4],\n",
        "                         [1, 2, 3, 4],\n",
        "                         [1, 2, 3, 4]])\n",
        "\n",
        "print(x_stretch * y_stretch)  # Again, operator overloading"
      ],
      "metadata": {
        "colab": {
          "base_uri": "https://localhost:8080/"
        },
        "outputId": "eb740d13-b54d-4c29-db4f-4fb31e45b0ce",
        "id": "jCHViZzDID3A"
      },
      "execution_count": 64,
      "outputs": [
        {
          "output_type": "stream",
          "name": "stdout",
          "text": [
            "tensor([[ 1,  2,  3,  4],\n",
            "        [ 2,  4,  6,  8],\n",
            "        [ 3,  6,  9, 12]])\n"
          ]
        }
      ]
    },
    {
      "cell_type": "code",
      "source": [
        "print(torch.broadcast_to(torch.tensor([1, 2, 3]), [3, 3]))"
      ],
      "metadata": {
        "colab": {
          "base_uri": "https://localhost:8080/"
        },
        "outputId": "2741f3fa-35af-4fbf-cce6-1f410c19663c",
        "id": "Wf_iNRXCID3A"
      },
      "execution_count": 65,
      "outputs": [
        {
          "output_type": "stream",
          "name": "stdout",
          "text": [
            "tensor([[1, 2, 3],\n",
            "        [1, 2, 3],\n",
            "        [1, 2, 3]])\n"
          ]
        }
      ]
    },
    {
      "cell_type": "markdown",
      "source": [
        "**Sparse Tensors**"
      ],
      "metadata": {
        "id": "sTrV85MNID3B"
      }
    },
    {
      "cell_type": "code",
      "source": [
        "i = [[0, 1, 1],\n",
        "         [2, 0, 2]]\n",
        "v =  [[3, 4], [5, 6], [7, 8]]\n",
        "s = torch.sparse_coo_tensor(i, v, (2, 3, 2))\n",
        "s"
      ],
      "metadata": {
        "colab": {
          "base_uri": "https://localhost:8080/"
        },
        "outputId": "03b2ec1d-603c-4763-9e3d-1464c9385305",
        "id": "JcqyNXU1ID3B"
      },
      "execution_count": 66,
      "outputs": [
        {
          "output_type": "execute_result",
          "data": {
            "text/plain": [
              "tensor(indices=tensor([[0, 1, 1],\n",
              "                       [2, 0, 2]]),\n",
              "       values=tensor([[3, 4],\n",
              "                      [5, 6],\n",
              "                      [7, 8]]),\n",
              "       size=(2, 3, 2), nnz=3, layout=torch.sparse_coo)"
            ]
          },
          "metadata": {},
          "execution_count": 66
        }
      ]
    },
    {
      "cell_type": "code",
      "source": [
        "s.to_dense()"
      ],
      "metadata": {
        "colab": {
          "base_uri": "https://localhost:8080/"
        },
        "id": "WxqSArEPNIwT",
        "outputId": "b7939435-6e7b-4fab-d572-1282c1b62393"
      },
      "execution_count": 67,
      "outputs": [
        {
          "output_type": "execute_result",
          "data": {
            "text/plain": [
              "tensor([[[0, 0],\n",
              "         [0, 0],\n",
              "         [3, 4]],\n",
              "\n",
              "        [[5, 6],\n",
              "         [0, 0],\n",
              "         [7, 8]]])"
            ]
          },
          "metadata": {},
          "execution_count": 67
        }
      ]
    },
    {
      "cell_type": "markdown",
      "source": [
        "### **EINSUM OPERATIONS**"
      ],
      "metadata": {
        "id": "F5OuO61ZPMea"
      }
    },
    {
      "cell_type": "markdown",
      "source": [
        "**Useful Format Strings**\n",
        "\n",
        "\n",
        "Vector inner product: \"a,a->\" (Assumes two vectors of same length)\n",
        "\n",
        "Vector element-wise product: \"a,a->a\" (Assumes two vectors of same length)\n",
        "\n",
        "Vector outer product: \"a,b->ab\" (Vectors not necessarily same length.)\n",
        "\n",
        "Matrix transposition: \"ab->ba\"\n",
        "\n",
        "Matrix diagonal: \"ii->i\"\n",
        "\n",
        "Matrix trace: \"ii->\"\n",
        "\n",
        "1-D Sum: \"a->\"\n",
        "\n",
        "2-D Sum: \"ab->\"\n",
        "\n",
        "3-D Sum: \"abc->\"\n",
        "\n",
        "Matrix inner product \"ab,ab->\" (If you pass twice the same argument, it becomes a matrix L2 norm)\n",
        "\n",
        "Left-multiplication Matrix-Vector: \"ab,b->a\"\n",
        "\n",
        "Right-multiplication Vector-Matrix: \"a,ab->b\"\n",
        "\n",
        "Matrix Multiply: \"ab,bc->ac\"\n",
        "\n",
        "Batch Matrix Multiply: \"Yab,Ybc->Yac\"\n",
        "\n",
        "Quadratic form / Mahalanobis Distance: \"a,ab,b->\""
      ],
      "metadata": {
        "id": "ihfuMYmJQQE8"
      }
    },
    {
      "cell_type": "code",
      "source": [
        "#MATRIX TRANSPOSE\n",
        "a = torch.arange(6).reshape(2, 3)\n",
        "torch.einsum('ij->ji', [a])"
      ],
      "metadata": {
        "colab": {
          "base_uri": "https://localhost:8080/"
        },
        "id": "zUc9YF5sPR0F",
        "outputId": "e58362d1-0b5c-466d-d313-d02d1a987df2"
      },
      "execution_count": 68,
      "outputs": [
        {
          "output_type": "execute_result",
          "data": {
            "text/plain": [
              "tensor([[0, 3],\n",
              "        [1, 4],\n",
              "        [2, 5]])"
            ]
          },
          "metadata": {},
          "execution_count": 68
        }
      ]
    },
    {
      "cell_type": "code",
      "source": [
        "#SUM\n",
        "a = torch.arange(6).reshape(2, 3)\n",
        "torch.einsum('ij->', [a])"
      ],
      "metadata": {
        "colab": {
          "base_uri": "https://localhost:8080/"
        },
        "id": "dFwYaWtcPhIA",
        "outputId": "38a9baa6-3028-4376-9d16-e9e058f2021c"
      },
      "execution_count": 69,
      "outputs": [
        {
          "output_type": "execute_result",
          "data": {
            "text/plain": [
              "tensor(15)"
            ]
          },
          "metadata": {},
          "execution_count": 69
        }
      ]
    },
    {
      "cell_type": "code",
      "source": [
        "#COLUMN SUM\n",
        "\n",
        "a = torch.arange(6).reshape(2, 3)\n",
        "torch.einsum('ij->j', [a])"
      ],
      "metadata": {
        "colab": {
          "base_uri": "https://localhost:8080/"
        },
        "id": "1XOzMqOwPo33",
        "outputId": "fbf8dd08-94a2-4657-9fab-0c9c5d1033a0"
      },
      "execution_count": 70,
      "outputs": [
        {
          "output_type": "execute_result",
          "data": {
            "text/plain": [
              "tensor([3, 5, 7])"
            ]
          },
          "metadata": {},
          "execution_count": 70
        }
      ]
    },
    {
      "cell_type": "code",
      "source": [
        "#ROW SUM\n",
        "\n",
        "a = torch.arange(6).reshape(2, 3)\n",
        "torch.einsum('ij->i', [a])"
      ],
      "metadata": {
        "colab": {
          "base_uri": "https://localhost:8080/"
        },
        "id": "VDq6Gp6tPpqg",
        "outputId": "125bd15e-50b7-4a6e-a6ac-8487bc09cd32"
      },
      "execution_count": 71,
      "outputs": [
        {
          "output_type": "execute_result",
          "data": {
            "text/plain": [
              "tensor([ 3, 12])"
            ]
          },
          "metadata": {},
          "execution_count": 71
        }
      ]
    },
    {
      "cell_type": "code",
      "source": [
        "#MATRIX-VECTOR MULTIPLICATION\n",
        "\n",
        "a = torch.arange(6).reshape(2, 3)\n",
        "b = torch.arange(3)\n",
        "torch.einsum('ik,k->i', [a, b])"
      ],
      "metadata": {
        "colab": {
          "base_uri": "https://localhost:8080/"
        },
        "id": "62YXA-j9Ps97",
        "outputId": "82753c9e-20c0-4b4d-89fe-64dea20f3bb0"
      },
      "execution_count": 72,
      "outputs": [
        {
          "output_type": "execute_result",
          "data": {
            "text/plain": [
              "tensor([ 5, 14])"
            ]
          },
          "metadata": {},
          "execution_count": 72
        }
      ]
    },
    {
      "cell_type": "code",
      "source": [
        "# MATRIX-MATRIX MULTIPLICATION\n",
        "\n",
        "a = torch.arange(6).reshape(2, 3)\n",
        "b = torch.arange(15).reshape(3, 5)\n",
        "torch.einsum('ik,kj->ij', [a, b])"
      ],
      "metadata": {
        "colab": {
          "base_uri": "https://localhost:8080/"
        },
        "id": "jEqoppOtPvbL",
        "outputId": "3619a9e2-a28a-4458-cfae-c62b7341af18"
      },
      "execution_count": 73,
      "outputs": [
        {
          "output_type": "execute_result",
          "data": {
            "text/plain": [
              "tensor([[ 25,  28,  31,  34,  37],\n",
              "        [ 70,  82,  94, 106, 118]])"
            ]
          },
          "metadata": {},
          "execution_count": 73
        }
      ]
    },
    {
      "cell_type": "code",
      "source": [
        "#DOT PRODUCT\n",
        "\n",
        "a = torch.arange(3)\n",
        "b = torch.arange(3,6)  # -- a vector of length 3 containing [3, 4, 5]\n",
        "print(torch.einsum('i,i->', [a, b]))\n",
        "\n",
        "a = torch.arange(6).reshape(2, 3)\n",
        "b = torch.arange(6,12).reshape(2, 3)\n",
        "print(torch.einsum('ij,ij->', [a, b]))"
      ],
      "metadata": {
        "colab": {
          "base_uri": "https://localhost:8080/"
        },
        "id": "QLekp3S3PxYm",
        "outputId": "b1e70502-4476-4148-8e26-c7ee375983f9"
      },
      "execution_count": 74,
      "outputs": [
        {
          "output_type": "stream",
          "name": "stdout",
          "text": [
            "tensor(14)\n",
            "tensor(145)\n"
          ]
        }
      ]
    },
    {
      "cell_type": "code",
      "source": [
        "# HADAMARD PRODUCT\n",
        "\n",
        "a = torch.arange(6).reshape(2, 3)\n",
        "b = torch.arange(6,12).reshape(2, 3)\n",
        "torch.einsum('ij,ij->ij', [a, b])"
      ],
      "metadata": {
        "colab": {
          "base_uri": "https://localhost:8080/"
        },
        "id": "LOnin8nrP4h5",
        "outputId": "40a704cc-9adb-4904-a231-751bf9a13aa2"
      },
      "execution_count": 75,
      "outputs": [
        {
          "output_type": "execute_result",
          "data": {
            "text/plain": [
              "tensor([[ 0,  7, 16],\n",
              "        [27, 40, 55]])"
            ]
          },
          "metadata": {},
          "execution_count": 75
        }
      ]
    },
    {
      "cell_type": "code",
      "source": [
        "# OUTER PRODUCT\n",
        "\n",
        "a = torch.arange(3)\n",
        "b = torch.arange(3,7)  # -- a vector of length 4 containing [3, 4, 5, 6]\n",
        "torch.einsum('i,j->ij', [a, b])"
      ],
      "metadata": {
        "colab": {
          "base_uri": "https://localhost:8080/"
        },
        "id": "7R0OlUkPP7ZB",
        "outputId": "2d9a6c93-9ce5-414c-c093-65314bdc4e84"
      },
      "execution_count": 76,
      "outputs": [
        {
          "output_type": "execute_result",
          "data": {
            "text/plain": [
              "tensor([[ 0,  0,  0,  0],\n",
              "        [ 3,  4,  5,  6],\n",
              "        [ 6,  8, 10, 12]])"
            ]
          },
          "metadata": {},
          "execution_count": 76
        }
      ]
    },
    {
      "cell_type": "code",
      "source": [
        "#BATCH MATRIX MULTIPLICATION\n",
        "\n",
        "a = torch.randn(3,2,5)\n",
        "b = torch.randn(3,5,3)\n",
        "torch.einsum('ijk,ikl->ijl', [a, b])"
      ],
      "metadata": {
        "colab": {
          "base_uri": "https://localhost:8080/"
        },
        "id": "8n4WiYq7P9lh",
        "outputId": "8052ac43-8a14-4af0-c2a1-ce501e80f9d2"
      },
      "execution_count": 77,
      "outputs": [
        {
          "output_type": "execute_result",
          "data": {
            "text/plain": [
              "tensor([[[ 0.1663,  2.1925,  0.3471],\n",
              "         [-2.0981, -3.2652, -0.3194]],\n",
              "\n",
              "        [[ 1.0883,  2.5966, -2.3626],\n",
              "         [ 1.6104,  0.9485, -0.6611]],\n",
              "\n",
              "        [[-3.2087, -6.9784,  0.0716],\n",
              "         [ 2.3430, -2.3351, -1.9437]]])"
            ]
          },
          "metadata": {},
          "execution_count": 77
        }
      ]
    },
    {
      "cell_type": "code",
      "source": [
        "# TENSOR CONTRACTION\n",
        "\n",
        "a = torch.randn(2,3,5,7)\n",
        "b = torch.randn(11,13,3,17,5)\n",
        "torch.einsum('pqrs,tuqvr->pstuv', [a, b]).shape"
      ],
      "metadata": {
        "colab": {
          "base_uri": "https://localhost:8080/"
        },
        "id": "DBEFezusQALc",
        "outputId": "8cddb8e9-704b-4b07-ccd7-0059e3e897ee"
      },
      "execution_count": 78,
      "outputs": [
        {
          "output_type": "execute_result",
          "data": {
            "text/plain": [
              "torch.Size([2, 7, 11, 13, 17])"
            ]
          },
          "metadata": {},
          "execution_count": 78
        }
      ]
    },
    {
      "cell_type": "code",
      "source": [
        "#BILINEAR TRANSFORMATION\n",
        "\n",
        "a = torch.randn(2,3)\n",
        "b = torch.randn(5,3,7)\n",
        "c = torch.randn(2,7)\n",
        "torch.einsum('ik,jkl,il->ij', [a, b, c])"
      ],
      "metadata": {
        "colab": {
          "base_uri": "https://localhost:8080/"
        },
        "id": "L4JhGVQdQCMQ",
        "outputId": "ec61e981-99ea-4def-fbd5-39b6db6f41c4"
      },
      "execution_count": 79,
      "outputs": [
        {
          "output_type": "execute_result",
          "data": {
            "text/plain": [
              "tensor([[-1.2635,  0.2351,  0.6462, -0.3622,  0.4414],\n",
              "        [-1.7515,  6.6262, -3.5769, -6.5236, -1.2276]])"
            ]
          },
          "metadata": {},
          "execution_count": 79
        }
      ]
    },
    {
      "cell_type": "markdown",
      "source": [
        "**TENSORFLOW EINSUM**"
      ],
      "metadata": {
        "id": "dAs6_Dkgklb7"
      }
    },
    {
      "cell_type": "code",
      "source": [
        "#MATRIX TRANSPOSE\n",
        "a = tf.random.normal([2,3])\n",
        "tf.einsum('ij->ji',a)"
      ],
      "metadata": {
        "colab": {
          "base_uri": "https://localhost:8080/"
        },
        "outputId": "ceac956d-be8c-4224-b1af-bedf9a5c6f82",
        "id": "2A0LUMOkkvyH"
      },
      "execution_count": 123,
      "outputs": [
        {
          "output_type": "execute_result",
          "data": {
            "text/plain": [
              "<tf.Tensor: shape=(3, 2), dtype=float32, numpy=\n",
              "array([[ 4.06141967e-01,  1.06180814e-04],\n",
              "       [-1.14537454e+00,  1.26665831e-01],\n",
              "       [ 7.23193526e-01,  2.19946653e-01]], dtype=float32)>"
            ]
          },
          "metadata": {},
          "execution_count": 123
        }
      ]
    },
    {
      "cell_type": "code",
      "source": [
        "#SUM\n",
        "a = tf.random.normal([2,3])\n",
        "tf.einsum('ij->',a)"
      ],
      "metadata": {
        "colab": {
          "base_uri": "https://localhost:8080/"
        },
        "outputId": "832f6912-50fa-4d92-b3c7-2c8ba7ffd5a9",
        "id": "kt5Lgqw5kvyI"
      },
      "execution_count": 124,
      "outputs": [
        {
          "output_type": "execute_result",
          "data": {
            "text/plain": [
              "<tf.Tensor: shape=(), dtype=float32, numpy=1.0417261>"
            ]
          },
          "metadata": {},
          "execution_count": 124
        }
      ]
    },
    {
      "cell_type": "code",
      "source": [
        "#COLUMN SUM\n",
        "a = tf.random.normal([2,3])\n",
        "tf.einsum('ij->j',a)"
      ],
      "metadata": {
        "colab": {
          "base_uri": "https://localhost:8080/"
        },
        "outputId": "5236bbe9-88ec-4331-e25f-59f31ea12415",
        "id": "MYyZdjS1kvyI"
      },
      "execution_count": 125,
      "outputs": [
        {
          "output_type": "execute_result",
          "data": {
            "text/plain": [
              "<tf.Tensor: shape=(3,), dtype=float32, numpy=array([ 0.01670494, -2.8316362 , -0.54112256], dtype=float32)>"
            ]
          },
          "metadata": {},
          "execution_count": 125
        }
      ]
    },
    {
      "cell_type": "code",
      "source": [
        "#ROW SUM\n",
        "a = tf.random.normal([2,3])\n",
        "tf.einsum('ij->i',a)"
      ],
      "metadata": {
        "colab": {
          "base_uri": "https://localhost:8080/"
        },
        "outputId": "68a71495-14eb-4e61-e65c-60dedf5f9675",
        "id": "Mp2aCDLRkvyI"
      },
      "execution_count": 126,
      "outputs": [
        {
          "output_type": "execute_result",
          "data": {
            "text/plain": [
              "<tf.Tensor: shape=(2,), dtype=float32, numpy=array([-1.9961076 , -0.28641313], dtype=float32)>"
            ]
          },
          "metadata": {},
          "execution_count": 126
        }
      ]
    },
    {
      "cell_type": "code",
      "source": [
        "#MATRIX-VECTOR MULTIPLICATION\n",
        "a = tf.random.normal([2,3])\n",
        "b = tf.random.normal([3])\n",
        "tf.einsum('ik,k->i',a, b)"
      ],
      "metadata": {
        "colab": {
          "base_uri": "https://localhost:8080/"
        },
        "outputId": "28fbb345-ed59-43f5-92f7-2595103aeb14",
        "id": "_0FigqTOkvyI"
      },
      "execution_count": 127,
      "outputs": [
        {
          "output_type": "execute_result",
          "data": {
            "text/plain": [
              "<tf.Tensor: shape=(2,), dtype=float32, numpy=array([-1.7575963 ,  0.44815078], dtype=float32)>"
            ]
          },
          "metadata": {},
          "execution_count": 127
        }
      ]
    },
    {
      "cell_type": "code",
      "source": [
        "# MATRIX-MATRIX MULTIPLICATION\n",
        "\n",
        "a = tf.random.normal([2,3])\n",
        "b = tf.random.normal([3,5])\n",
        "tf.einsum('ik,kj->ij', a, b)"
      ],
      "metadata": {
        "colab": {
          "base_uri": "https://localhost:8080/"
        },
        "outputId": "0a9278d9-d53d-4f43-dd5b-7e605b64ebea",
        "id": "_JCHkI0NkvyI"
      },
      "execution_count": 128,
      "outputs": [
        {
          "output_type": "execute_result",
          "data": {
            "text/plain": [
              "<tf.Tensor: shape=(2, 5), dtype=float32, numpy=\n",
              "array([[-1.4756826 ,  0.18604076, -0.6043083 ,  0.87186927, -2.0402794 ],\n",
              "       [-3.1955566 ,  1.4379437 , -1.5725329 ,  1.4730693 , -1.0639702 ]],\n",
              "      dtype=float32)>"
            ]
          },
          "metadata": {},
          "execution_count": 128
        }
      ]
    },
    {
      "cell_type": "code",
      "source": [
        "#DOT PRODUCT\n",
        "a = tf.random.normal([3,6])\n",
        "b = tf.random.normal([3,6])\n",
        "tf.einsum('ij,ij->',a,b)"
      ],
      "metadata": {
        "colab": {
          "base_uri": "https://localhost:8080/"
        },
        "outputId": "7549034b-7769-4daa-ef28-866af952329b",
        "id": "dRUBCalYkvyI"
      },
      "execution_count": 137,
      "outputs": [
        {
          "output_type": "execute_result",
          "data": {
            "text/plain": [
              "<tf.Tensor: shape=(), dtype=float32, numpy=0.6253378>"
            ]
          },
          "metadata": {},
          "execution_count": 137
        }
      ]
    },
    {
      "cell_type": "code",
      "source": [
        "# HADAMARD PRODUCT\n",
        "\n",
        "a = tf.random.normal([2, 3])\n",
        "b = tf.random.normal([2, 3])\n",
        "tf.einsum('ij,ij->ij',a, b)"
      ],
      "metadata": {
        "id": "Af0IzYvTkvyI"
      },
      "execution_count": null,
      "outputs": []
    },
    {
      "cell_type": "code",
      "source": [
        "#BATCH MATRIX MULTIPLICATION\n",
        "\n",
        "a = tf.random.normal([3,2,5])\n",
        "b = tf.random.normal([3,5,3])\n",
        "tf.einsum('ijk,ikl->ijl',a, b)"
      ],
      "metadata": {
        "id": "XXVk57S6kvyI"
      },
      "execution_count": null,
      "outputs": []
    },
    {
      "cell_type": "code",
      "source": [
        "# TENSOR CONTRACTION\n",
        "\n",
        "a = tf.random.normal([2,3,5,7])\n",
        "b = tf.random.normal([11,13,3,17,5])\n",
        "tf.einsum('pqrs,tuqvr->pstuv',a, b).shape"
      ],
      "metadata": {
        "id": "K_P6B0HVkvyI"
      },
      "execution_count": null,
      "outputs": []
    },
    {
      "cell_type": "code",
      "source": [
        "#BILINEAR TRANSFORMATION\n",
        "\n",
        "a = tf.random.normal([2,3])\n",
        "b = tf.random.normal([5,3,7])\n",
        "c = tf.random.normal([2,7])\n",
        "tf.einsum('ik,jkl,il->ij',a, b, c)"
      ],
      "metadata": {
        "id": "m28HMoN2kvyI"
      },
      "execution_count": null,
      "outputs": []
    }
  ]
}